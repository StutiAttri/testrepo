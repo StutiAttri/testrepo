{
  "nbformat": 4,
  "nbformat_minor": 0,
  "metadata": {
    "colab": {
      "provenance": [],
      "authorship_tag": "ABX9TyPOWJb9Ynm1TgpCk+sVdH9x",
      "include_colab_link": true
    },
    "kernelspec": {
      "name": "python3",
      "display_name": "Python 3"
    },
    "language_info": {
      "name": "python"
    }
  },
  "cells": [
    {
      "cell_type": "markdown",
      "metadata": {
        "id": "view-in-github",
        "colab_type": "text"
      },
      "source": [
        "<a href=\"https://colab.research.google.com/github/StutiAttri/testrepo/blob/main/Python.ipynb\" target=\"_parent\"><img src=\"https://colab.research.google.com/assets/colab-badge.svg\" alt=\"Open In Colab\"/></a>"
      ]
    },
    {
      "cell_type": "markdown",
      "source": [
        "Assignment"
      ],
      "metadata": {
        "id": "yGlcFbbBfWCI"
      }
    },
    {
      "cell_type": "markdown",
      "source": [
        "Q1-Write a Python program to check if a string is a palindrome. A palindrome is a word or phrase that reads the same backward as forward. For example, \"malayalam\" is a palindrome."
      ],
      "metadata": {
        "id": "ugSBtnYjzAqk"
      }
    },
    {
      "cell_type": "code",
      "source": [
        "#que1 palindrome\n",
        "string=input(\"enter any string : \")\n",
        "if(string==string[::-1]):\n",
        "    print(\"given string is palindrome\")\n",
        "else:\n",
        "    print(\"given string is not palindrome\")\n",
        "\n"
      ],
      "metadata": {
        "colab": {
          "base_uri": "https://localhost:8080/"
        },
        "id": "p_X-_I9czdcZ",
        "outputId": "0f5a8454-fc3d-4fbd-9561-8e8c0ce6b23d"
      },
      "execution_count": null,
      "outputs": [
        {
          "output_type": "stream",
          "name": "stdout",
          "text": [
            "enter any string : radar\n",
            "given string is palindrome\n"
          ]
        }
      ]
    },
    {
      "cell_type": "markdown",
      "source": [
        "Q2-Write a Python program to check if a string contains all the letters of the alphabet."
      ],
      "metadata": {
        "id": "gF4_Axvhz3Rg"
      }
    },
    {
      "cell_type": "code",
      "source": [
        "#ques2 to check if string contain any aplhabet\n",
        "import string\n",
        "alphabet=set(string.ascii_lowercase)\n",
        "inp=\"qwwertyui opasdfg hjkl  m\"\n",
        "if(set(inp.lower())>=alphabet):\n",
        "    print(\"the input string contains all the letters of the alphabet.\")\n",
        "else:\n",
        "    print(\"doent contain all letter\")"
      ],
      "metadata": {
        "colab": {
          "base_uri": "https://localhost:8080/"
        },
        "id": "LPq5y5QD0Bif",
        "outputId": "277f8984-597c-48bc-b81c-ad570b6df77a"
      },
      "execution_count": null,
      "outputs": [
        {
          "output_type": "stream",
          "name": "stdout",
          "text": [
            "doent contain all letter\n"
          ]
        }
      ]
    },
    {
      "cell_type": "markdown",
      "source": [
        "Q3-Write a Python program to find the longest word in a string."
      ],
      "metadata": {
        "id": "ySdHpuAT0iC9"
      }
    },
    {
      "cell_type": "code",
      "source": [
        "#ans3 finding longest word in string\n",
        "def longest_word(s):\n",
        "    words = s.split()\n",
        "    longest = \"\"\n",
        "    max_length = 0\n",
        "    for word in words:\n",
        "        if len(word)>max_length:\n",
        "            longest=word\n",
        "            max_length = len(word)\n",
        "    return longest\n",
        "s = input(\"Enter any string:\")\n",
        "print(\"Longest word:\",longest_word(s))"
      ],
      "metadata": {
        "colab": {
          "base_uri": "https://localhost:8080/"
        },
        "id": "oJb236Gs0vW4",
        "outputId": "0c98e871-c896-48d1-de0d-fc90d771a85a"
      },
      "execution_count": null,
      "outputs": [
        {
          "output_type": "stream",
          "name": "stdout",
          "text": [
            "Enter any string:my name is stuti\n",
            "Longest word: stuti\n"
          ]
        }
      ]
    },
    {
      "cell_type": "markdown",
      "source": [
        "Q4-Write a Python program to count the number of vowels in a string."
      ],
      "metadata": {
        "id": "mx3k7jGi1GbE"
      }
    },
    {
      "cell_type": "code",
      "source": [
        "def vowel_count(string):\n",
        "    count=0\n",
        "    vowel=set(\"aieouAEIOU\")\n",
        "    for char in string:\n",
        "        if char in vowel:\n",
        "            count+=1\n",
        "    return count\n",
        "input_string = input(\"Enter any string: \")\n",
        "result = vowel_count(input_string)\n",
        "print(\"Number of vowels:\", result)"
      ],
      "metadata": {
        "colab": {
          "base_uri": "https://localhost:8080/"
        },
        "id": "uqY82n3s1LsT",
        "outputId": "5455d9ed-d90a-489f-c6a7-54943984aa61"
      },
      "execution_count": null,
      "outputs": [
        {
          "output_type": "stream",
          "name": "stdout",
          "text": [
            "Enter any string: python \n",
            "Number of vowels: 1\n"
          ]
        }
      ]
    },
    {
      "cell_type": "markdown",
      "source": [
        "Q5-Write a Python program to check if a string is a sentence. A sentence is a string that starts with a capital letter and ends with a period."
      ],
      "metadata": {
        "id": "5ddZcxQL1deq"
      }
    },
    {
      "cell_type": "code",
      "source": [
        "def is_sentence(text):\n",
        "    # Check if the text is not empty and starts with a capital letter\n",
        "    if text and text[0].isupper():\n",
        "        # Check if the text ends with a period\n",
        "        if text[-1] == '.':\n",
        "            return True\n",
        "    return False\n",
        "\n",
        "sentence1 = \"This is a sentence.\"\n",
        "sentence2 = \"this is not a sentence\"\n",
        "\n",
        "\n",
        "print(is_sentence(sentence1))\n",
        "print(is_sentence(sentence2))\n"
      ],
      "metadata": {
        "colab": {
          "base_uri": "https://localhost:8080/"
        },
        "id": "h6nRjmMe1kRT",
        "outputId": "f181081c-d713-4a43-f3be-1702db08a391"
      },
      "execution_count": null,
      "outputs": [
        {
          "output_type": "stream",
          "name": "stdout",
          "text": [
            "True\n",
            "False\n"
          ]
        }
      ]
    },
    {
      "cell_type": "markdown",
      "source": [
        "Q19-Write List comprehensions to produce the following Lists ['A', 'C', 'A', 'D', 'G', 'I',' L', 'D'] ['x', 'xx', 'xxx', 'xxxx', 'y', 'yy', 'yyy', 'yyyy', 'z', 'zz', 'zzz', 'zzzz'] ['x', 'y', 'z', 'xx', 'yy', 'zz', 'xxx', 'yyy', 'zzz', 'xxxx', 'yyyy', 'zzzz'] [[2], [3], [4], [3], [4], [5], [4], [5], [6]] [[2, 3, 4, 5], [3, 4, 5, 6], [4, 5, 6, 7], [5, 6, 7, 8]] [(1, 1), (2, 1), (3, 1), (1, 2), (2, 2), (3, 2), (1, 3), (2, 3), (3, 3)"
      ],
      "metadata": {
        "id": "E4owApTh10uH"
      }
    },
    {
      "cell_type": "code",
      "source": [
        "#Q18\n",
        "L1=[char for char in 'ACADGILD']\n",
        "L2=[char*i for char in 'xyz'for i in range (1,5)]\n",
        "L3=[char*i for i in range(1,5) for char in'xyz']\n",
        "L4=[[num+i] for num in range(2,5) for i in range(3) ]\n",
        "L5=[[num + i for i in range(4)] for num in range(2, 6)]\n",
        "L6=[(j, i) for i in range(1, 4) for j in range(1, 4)]\n",
        "print(\"list1: \",L1)\n",
        "print(\"list2: \",L2)\n",
        "print(\"list3: \",L3)\n",
        "print(\"list4: \",L4)\n",
        "print(\"list5: \",L5)\n",
        "print(\"list6: \",L6)"
      ],
      "metadata": {
        "colab": {
          "base_uri": "https://localhost:8080/"
        },
        "id": "44EJFVWd2FMM",
        "outputId": "821c0eb8-6e7d-4eb6-857d-d4ebf59e53a1"
      },
      "execution_count": null,
      "outputs": [
        {
          "output_type": "stream",
          "name": "stdout",
          "text": [
            "list1:  ['A', 'C', 'A', 'D', 'G', 'I', 'L', 'D']\n",
            "list2:  ['x', 'xx', 'xxx', 'xxxx', 'y', 'yy', 'yyy', 'yyyy', 'z', 'zz', 'zzz', 'zzzz']\n",
            "list3:  ['x', 'y', 'z', 'xx', 'yy', 'zz', 'xxx', 'yyy', 'zzz', 'xxxx', 'yyyy', 'zzzz']\n",
            "list4:  [[2], [3], [4], [3], [4], [5], [4], [5], [6]]\n",
            "list5:  [[2, 3, 4, 5], [3, 4, 5, 6], [4, 5, 6, 7], [5, 6, 7, 8]]\n",
            "list6:  [(1, 1), (2, 1), (3, 1), (1, 2), (2, 2), (3, 2), (1, 3), (2, 3), (3, 3)]\n"
          ]
        }
      ]
    },
    {
      "cell_type": "markdown",
      "source": [
        "Q20- Program to find out the elements in a list in which elements are ended with the letter 'b' and the length of that element is greater than 2"
      ],
      "metadata": {
        "id": "CYLGz0eK2UiO"
      }
    },
    {
      "cell_type": "code",
      "source": [
        "#Q20\n",
        "input_list = ['abbab', 'cddghs', 'bvnsb', 'aaaa', 'jsjjsjs', 'b']\n",
        "result_list = [word for word in input_list if word.endswith('b') and len(word) > 2]\n",
        "print(result_list)"
      ],
      "metadata": {
        "colab": {
          "base_uri": "https://localhost:8080/"
        },
        "id": "Sq-r71Yg2qH-",
        "outputId": "ca89fff7-d3ed-493e-e7e1-3515c8fd0725"
      },
      "execution_count": null,
      "outputs": [
        {
          "output_type": "stream",
          "name": "stdout",
          "text": [
            "['abbab', 'bvnsb']\n"
          ]
        }
      ]
    },
    {
      "cell_type": "markdown",
      "source": [
        "Q21- program to reverse each string in a tuple with the help of list comprehension."
      ],
      "metadata": {
        "id": "v1Plxdup2w-j"
      }
    },
    {
      "cell_type": "code",
      "source": [
        "#Q21\n",
        "j=0\n",
        "t1=(1,2,3,4,5,6,7,8,9)\n",
        "print(\"original tuple\",t1)\n",
        "print(\"reversed tuple\",t1[::-1])"
      ],
      "metadata": {
        "colab": {
          "base_uri": "https://localhost:8080/"
        },
        "id": "CoeHJ1JN24U6",
        "outputId": "28150a61-f0ce-40ac-e05f-ae98545a2470"
      },
      "execution_count": null,
      "outputs": [
        {
          "output_type": "stream",
          "name": "stdout",
          "text": [
            "original tuple (1, 2, 3, 4, 5, 6, 7, 8, 9)\n",
            "reversed tuple (9, 8, 7, 6, 5, 4, 3, 2, 1)\n"
          ]
        }
      ]
    },
    {
      "cell_type": "markdown",
      "source": [
        "Q22- Find the common elements in multiple sets."
      ],
      "metadata": {
        "id": "BQsUAHLL3Ezb"
      }
    },
    {
      "cell_type": "code",
      "source": [
        "#Q22\n",
        "set1=set([1,2,3,4,5,6])\n",
        "set2=set([5,6,7,8,9,10])\n",
        "common=set1&set2\n",
        "print(\"set1: \",set1)\n",
        "print(\"set2: \",set2)\n",
        "print(\"common elements in both sets\",common)"
      ],
      "metadata": {
        "colab": {
          "base_uri": "https://localhost:8080/"
        },
        "id": "XL9c9q7x3RNm",
        "outputId": "48660d3a-cd6c-4255-b78d-11e3c87cbcf7"
      },
      "execution_count": null,
      "outputs": [
        {
          "output_type": "stream",
          "name": "stdout",
          "text": [
            "set1:  {1, 2, 3, 4, 5, 6}\n",
            "set2:  {5, 6, 7, 8, 9, 10}\n",
            "common elements in both sets {5, 6}\n"
          ]
        }
      ]
    },
    {
      "cell_type": "markdown",
      "source": [
        "Q23- Remove the Elements from one set that are present in another"
      ],
      "metadata": {
        "id": "qXEHcRoV3aqF"
      }
    },
    {
      "cell_type": "code",
      "source": [
        "print(\"removing the Elements from one set that are present in another\",set1-set2)"
      ],
      "metadata": {
        "colab": {
          "base_uri": "https://localhost:8080/"
        },
        "id": "EkzRB97q3kIv",
        "outputId": "48a7bf30-1aa0-4cac-837e-cd4f9d5457fb"
      },
      "execution_count": null,
      "outputs": [
        {
          "output_type": "stream",
          "name": "stdout",
          "text": [
            "removing the Elements from one set that are present in another {1, 2, 3, 4}\n"
          ]
        }
      ]
    },
    {
      "cell_type": "markdown",
      "source": [
        "Q24- Check if two sets are disjoint."
      ],
      "metadata": {
        "id": "nLBCF-jE3p5v"
      }
    },
    {
      "cell_type": "code",
      "source": [
        "#Q24\n",
        "set3=set([11,22,33])\n",
        "if set1.isdisjoint(set3):\n",
        "    print(\"disjoint set\")\n",
        "else:\n",
        "     print(\"have common elments\")"
      ],
      "metadata": {
        "colab": {
          "base_uri": "https://localhost:8080/"
        },
        "id": "gSchDFhu3wDB",
        "outputId": "ab93345e-2315-418c-ad69-99f3aae1fdfb"
      },
      "execution_count": null,
      "outputs": [
        {
          "output_type": "stream",
          "name": "stdout",
          "text": [
            "disjoint set\n"
          ]
        }
      ]
    },
    {
      "cell_type": "markdown",
      "source": [
        "Q25-Find the maximum and minimum elements from a set of sets"
      ],
      "metadata": {
        "id": "iYYJxR0t3254"
      }
    },
    {
      "cell_type": "code",
      "source": [
        "#Q25\n",
        "set_of_sets = {frozenset({1, 2, 3}), frozenset({4, 5, 6}), frozenset({7, 8, 9, 10})}\n",
        "max_element = max({element for subset in set_of_sets for element in subset})\n",
        "min_element = min({element for subset in set_of_sets for element in subset})\n",
        "print(\"Maximum element:\", max_element)\n",
        "print(\"Minimum element:\", min_element)\n",
        "\n"
      ],
      "metadata": {
        "colab": {
          "base_uri": "https://localhost:8080/"
        },
        "id": "xhr6Vo-T39hr",
        "outputId": "084e7b07-7a10-4cf0-9627-178399def8f2"
      },
      "execution_count": null,
      "outputs": [
        {
          "output_type": "stream",
          "name": "stdout",
          "text": [
            "Maximum element: 10\n",
            "Minimum element: 1\n"
          ]
        }
      ]
    },
    {
      "cell_type": "markdown",
      "source": [
        "Q26-You have a list of dictionaries. Each dictionary represents a student with keys 'name', 'grade', and 'age'. Write a function that takes this list as an argument and returns a new list of dictionaries sorted by grade in descending order. If two students have the same grade, sort them by name in ascending order.."
      ],
      "metadata": {
        "id": "_W09zcxq4MxH"
      }
    },
    {
      "cell_type": "code",
      "source": [
        "students = [\n",
        "    {'name': 'Anya', 'grade': 85, 'age': 19},\n",
        "    {'name': 'Brown', 'grade': 75, 'age': 20},\n",
        "    {'name': 'Cavid', 'grade': 85, 'age': 21},\n",
        "    {'name': 'Daniel', 'grade': 90, 'age': 19}\n",
        "]\n",
        "sorted_students = sorted(students, key=lambda x: (-x['grade'], x['name']))\n",
        "for student in sorted_students:\n",
        "    print(student)"
      ],
      "metadata": {
        "colab": {
          "base_uri": "https://localhost:8080/"
        },
        "id": "FNDNFkUO4U4f",
        "outputId": "62aa3403-aa8c-4980-d1a3-f9476eba59b6"
      },
      "execution_count": null,
      "outputs": [
        {
          "output_type": "stream",
          "name": "stdout",
          "text": [
            "{'name': 'Daniel', 'grade': 90, 'age': 19}\n",
            "{'name': 'Anya', 'grade': 85, 'age': 19}\n",
            "{'name': 'Cavid', 'grade': 85, 'age': 21}\n",
            "{'name': 'Brown', 'grade': 75, 'age': 20}\n"
          ]
        }
      ]
    },
    {
      "cell_type": "markdown",
      "source": [
        "Q27- you have a string that represents a mathematical expression. Write a function that takes this string as an argument and returns the result of the expression. The function should handle addition, subtraction, multiplication, and division. The function should also handle parentheses for grouping operations."
      ],
      "metadata": {
        "id": "uuhqd-ip4uUN"
      }
    },
    {
      "cell_type": "code",
      "source": [
        "import re\n",
        "def evaluate_expression(expression):\n",
        "  expression=re.sub(r'\\s','',expression)\n",
        "  expression=expression.replace('x','*')\n",
        "  expression=expression.replace('÷','*')\n",
        "\n",
        "  try:\n",
        "    result=eval(expression)\n",
        "  except Exception as e:\n",
        "    print(f\"error: {e}\")\n",
        "    result=None\n",
        "  return result\n"
      ],
      "metadata": {
        "id": "1UVXrAPJ45s4"
      },
      "execution_count": null,
      "outputs": []
    },
    {
      "cell_type": "code",
      "source": [
        "expression=\"2+(3*4)/(2-1)\"\n",
        "result=evaluate_expression(expression)\n",
        "print(result)\n"
      ],
      "metadata": {
        "colab": {
          "base_uri": "https://localhost:8080/"
        },
        "id": "F-0HlFAc6XyC",
        "outputId": "bdaf6fd9-ba2f-46cd-f37b-af203205cfaa"
      },
      "execution_count": null,
      "outputs": [
        {
          "output_type": "stream",
          "name": "stdout",
          "text": [
            "14.0\n"
          ]
        }
      ]
    }
  ]
}